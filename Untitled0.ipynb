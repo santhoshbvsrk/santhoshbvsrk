{
  "nbformat": 4,
  "nbformat_minor": 0,
  "metadata": {
    "colab": {
      "name": "Untitled0.ipynb",
      "provenance": [],
      "authorship_tag": "ABX9TyP6zeYbg7nJklEkqZFxoHdg",
      "include_colab_link": true
    },
    "kernelspec": {
      "name": "python3",
      "display_name": "Python 3"
    },
    "language_info": {
      "name": "python"
    }
  },
  "cells": [
    {
      "cell_type": "markdown",
      "metadata": {
        "id": "view-in-github",
        "colab_type": "text"
      },
      "source": [
        "<a href=\"https://colab.research.google.com/github/santhoshbvsrk/santhoshbvsrk/blob/main/Untitled0.ipynb\" target=\"_parent\"><img src=\"https://colab.research.google.com/assets/colab-badge.svg\" alt=\"Open In Colab\"/></a>"
      ]
    },
    {
      "cell_type": "code",
      "metadata": {
        "colab": {
          "base_uri": "https://localhost:8080/"
        },
        "id": "2nGdBPGoz_HN",
        "outputId": "b04303d7-c5d7-4a0f-d86d-6af5e7e56269"
      },
      "source": [
        "pip install selenium"
      ],
      "execution_count": 32,
      "outputs": [
        {
          "output_type": "stream",
          "name": "stdout",
          "text": [
            "Requirement already satisfied: selenium in /usr/local/lib/python3.7/dist-packages (3.141.0)\n",
            "Requirement already satisfied: urllib3 in /usr/local/lib/python3.7/dist-packages (from selenium) (1.24.3)\n"
          ]
        }
      ]
    },
    {
      "cell_type": "code",
      "metadata": {
        "id": "f8eCiVSj0wx3"
      },
      "source": [
        "import selenium"
      ],
      "execution_count": 33,
      "outputs": []
    },
    {
      "cell_type": "code",
      "metadata": {
        "id": "Es0woQSh0SKI"
      },
      "source": [
        "from selenium import webdriver\n",
        "from selenium.webdriver.common.keys import Keys\n",
        "import time"
      ],
      "execution_count": 34,
      "outputs": []
    },
    {
      "cell_type": "code",
      "metadata": {
        "id": "zqAUz4D_49tK"
      },
      "source": [
        "class GitBot:\n",
        "    def __init__(self,username,password):\n",
        "        self.username = username\n",
        "        self.password = password\n",
        "        self.bot = webdriver.Chrome()\n",
        "\n",
        "\n",
        "    def login(self):\n",
        "        bot = self.bot\n",
        "        # Open Login page\n",
        "        bot.get('https://booking.kga.in/')\n",
        "        time.sleep(5)\n",
        "        username = bot.find_element_by_id('username')\n",
        "        password = bot.find_element_by_id('password')\n",
        "        username.clear()\n",
        "        password.clear() \n",
        "        # Fill the form fields \n",
        "        username.send_keys(self.username)\n",
        "        password.send_keys(self.password)\n",
        "        print('filled up reg form')\n",
        "        #Wait for 60 seconds so that I manually finish Captcha\n",
        "        time.sleep(60)\n",
        "        # Open my logged in page\n",
        "        bot.get('https://booking.kga.in/login.php')\n",
        "        time.sleep(5)\n",
        "        time.sleep(3)\n",
        "        #Logout this user"
      ],
      "execution_count": 35,
      "outputs": []
    }
  ]
}